{
 "cells": [
  {
   "cell_type": "code",
   "execution_count": 1,
   "metadata": {
    "collapsed": true
   },
   "outputs": [],
   "source": [
    "import pandas as pd\n",
    "import numpy as np"
   ]
  },
  {
   "cell_type": "code",
   "execution_count": 2,
   "metadata": {
    "collapsed": true
   },
   "outputs": [],
   "source": [
    "datasett = pd.read_csv(\"NYPD_Complaint_Data_Historic.csv\", usecols=[1,9,13])"
   ]
  },
  {
   "cell_type": "code",
   "execution_count": 3,
   "metadata": {},
   "outputs": [],
   "source": [
    "df = pd.DataFrame(datasett)"
   ]
  },
  {
   "cell_type": "code",
   "execution_count": 63,
   "metadata": {},
   "outputs": [
    {
     "name": "stderr",
     "output_type": "stream",
     "text": [
      "/Applications/Anaconda22/anaconda/lib/python2.7/site-packages/ipykernel_launcher.py:2: UserWarning: Boolean Series key will be reindexed to match DataFrame index.\n",
      "  \n",
      "/Applications/Anaconda22/anaconda/lib/python2.7/site-packages/ipykernel_launcher.py:3: UserWarning: Boolean Series key will be reindexed to match DataFrame index.\n",
      "  This is separate from the ipykernel package so we can avoid doing imports until\n"
     ]
    },
    {
     "name": "stdout",
     "output_type": "stream",
     "text": [
      "epli\n"
     ]
    }
   ],
   "source": [
    "df1 = df[pd.notnull(df['BORO_NM'])]\n",
    "df2 = df1[pd.notnull(df['PD_DESC'])]\n",
    "df3 = df2[pd.notnull(df['CMPLNT_FR_DT'])]\n",
    "\n",
    "print \"epli\""
   ]
  },
  {
   "cell_type": "code",
   "execution_count": 64,
   "metadata": {},
   "outputs": [
    {
     "name": "stdout",
     "output_type": "stream",
     "text": [
      "epli\n"
     ]
    }
   ],
   "source": [
    "df3.CMPLNT_FR_DT = df3.CMPLNT_FR_DT.str.slice(6,10)\n",
    "print \"epli\""
   ]
  },
  {
   "cell_type": "code",
   "execution_count": 72,
   "metadata": {},
   "outputs": [
    {
     "name": "stdout",
     "output_type": "stream",
     "text": [
      "5574009\n",
      "2015\n",
      "2015\n",
      "2015\n",
      "2015\n",
      "2015\n",
      "2015\n",
      "2015\n",
      "2015\n",
      "epli\n"
     ]
    }
   ],
   "source": [
    "print len(df3)\n",
    "\n",
    "#for i in range(0,5):\n",
    "#    df3.CMPLNT_FR_DT[i] = df3.CMPLNT_FR_DT[i].str.slice(0,3)\n",
    "\n",
    "for i in range(3,11):\n",
    "    print df3.CMPLNT_FR_DT.get_value(i,1)\n",
    "\n",
    "#for i in range(0,10):\n",
    "#print df3.CMPLNT_FR_DT(2)\n",
    "#sub_df.iloc[0] \n",
    "#df3.get_value('CMPLNT_FR_DT', 2)\n",
    "\n",
    "print \"epli\"\n",
    "\n"
   ]
  },
  {
   "cell_type": "code",
   "execution_count": 73,
   "metadata": {},
   "outputs": [
    {
     "ename": "KeyError",
     "evalue": "1",
     "output_type": "error",
     "traceback": [
      "\u001b[0;31m---------------------------------------------------------------------------\u001b[0m",
      "\u001b[0;31mKeyError\u001b[0m                                  Traceback (most recent call last)",
      "\u001b[0;32m<ipython-input-73-ae4df1e23481>\u001b[0m in \u001b[0;36m<module>\u001b[0;34m()\u001b[0m\n\u001b[1;32m      2\u001b[0m \u001b[0;34m\u001b[0m\u001b[0m\n\u001b[1;32m      3\u001b[0m \u001b[0;34m\u001b[0m\u001b[0m\n\u001b[0;32m----> 4\u001b[0;31m \u001b[0mdf3\u001b[0m\u001b[0;34m.\u001b[0m\u001b[0mCMPLNT_FR_DT\u001b[0m\u001b[0;34m.\u001b[0m\u001b[0mget_value\u001b[0m\u001b[0;34m(\u001b[0m\u001b[0;36m1\u001b[0m\u001b[0;34m,\u001b[0m\u001b[0;36m1\u001b[0m\u001b[0;34m)\u001b[0m\u001b[0;34m\u001b[0m\u001b[0m\n\u001b[0m",
      "\u001b[0;32m/Applications/Anaconda22/anaconda/lib/python2.7/site-packages/pandas/core/series.pyc\u001b[0m in \u001b[0;36mget_value\u001b[0;34m(self, label, takeable)\u001b[0m\n\u001b[1;32m    893\u001b[0m         \u001b[0;32mif\u001b[0m \u001b[0mtakeable\u001b[0m \u001b[0;32mis\u001b[0m \u001b[0mTrue\u001b[0m\u001b[0;34m:\u001b[0m\u001b[0;34m\u001b[0m\u001b[0m\n\u001b[1;32m    894\u001b[0m             \u001b[0;32mreturn\u001b[0m \u001b[0m_maybe_box_datetimelike\u001b[0m\u001b[0;34m(\u001b[0m\u001b[0mself\u001b[0m\u001b[0;34m.\u001b[0m\u001b[0m_values\u001b[0m\u001b[0;34m[\u001b[0m\u001b[0mlabel\u001b[0m\u001b[0;34m]\u001b[0m\u001b[0;34m)\u001b[0m\u001b[0;34m\u001b[0m\u001b[0m\n\u001b[0;32m--> 895\u001b[0;31m         \u001b[0;32mreturn\u001b[0m \u001b[0mself\u001b[0m\u001b[0;34m.\u001b[0m\u001b[0mindex\u001b[0m\u001b[0;34m.\u001b[0m\u001b[0mget_value\u001b[0m\u001b[0;34m(\u001b[0m\u001b[0mself\u001b[0m\u001b[0;34m.\u001b[0m\u001b[0m_values\u001b[0m\u001b[0;34m,\u001b[0m \u001b[0mlabel\u001b[0m\u001b[0;34m)\u001b[0m\u001b[0;34m\u001b[0m\u001b[0m\n\u001b[0m\u001b[1;32m    896\u001b[0m \u001b[0;34m\u001b[0m\u001b[0m\n\u001b[1;32m    897\u001b[0m     \u001b[0;32mdef\u001b[0m \u001b[0mset_value\u001b[0m\u001b[0;34m(\u001b[0m\u001b[0mself\u001b[0m\u001b[0;34m,\u001b[0m \u001b[0mlabel\u001b[0m\u001b[0;34m,\u001b[0m \u001b[0mvalue\u001b[0m\u001b[0;34m,\u001b[0m \u001b[0mtakeable\u001b[0m\u001b[0;34m=\u001b[0m\u001b[0mFalse\u001b[0m\u001b[0;34m)\u001b[0m\u001b[0;34m:\u001b[0m\u001b[0;34m\u001b[0m\u001b[0m\n",
      "\u001b[0;32m/Applications/Anaconda22/anaconda/lib/python2.7/site-packages/pandas/core/indexes/base.pyc\u001b[0m in \u001b[0;36mget_value\u001b[0;34m(self, series, key)\u001b[0m\n\u001b[1;32m   2426\u001b[0m         \u001b[0;32mtry\u001b[0m\u001b[0;34m:\u001b[0m\u001b[0;34m\u001b[0m\u001b[0m\n\u001b[1;32m   2427\u001b[0m             return self._engine.get_value(s, k,\n\u001b[0;32m-> 2428\u001b[0;31m                                           tz=getattr(series.dtype, 'tz', None))\n\u001b[0m\u001b[1;32m   2429\u001b[0m         \u001b[0;32mexcept\u001b[0m \u001b[0mKeyError\u001b[0m \u001b[0;32mas\u001b[0m \u001b[0me1\u001b[0m\u001b[0;34m:\u001b[0m\u001b[0;34m\u001b[0m\u001b[0m\n\u001b[1;32m   2430\u001b[0m             \u001b[0;32mif\u001b[0m \u001b[0mlen\u001b[0m\u001b[0;34m(\u001b[0m\u001b[0mself\u001b[0m\u001b[0;34m)\u001b[0m \u001b[0;34m>\u001b[0m \u001b[0;36m0\u001b[0m \u001b[0;32mand\u001b[0m \u001b[0mself\u001b[0m\u001b[0;34m.\u001b[0m\u001b[0minferred_type\u001b[0m \u001b[0;32min\u001b[0m \u001b[0;34m[\u001b[0m\u001b[0;34m'integer'\u001b[0m\u001b[0;34m,\u001b[0m \u001b[0;34m'boolean'\u001b[0m\u001b[0;34m]\u001b[0m\u001b[0;34m:\u001b[0m\u001b[0;34m\u001b[0m\u001b[0m\n",
      "\u001b[0;32mpandas/_libs/index.pyx\u001b[0m in \u001b[0;36mpandas._libs.index.IndexEngine.get_value (pandas/_libs/index.c:4363)\u001b[0;34m()\u001b[0m\n",
      "\u001b[0;32mpandas/_libs/index.pyx\u001b[0m in \u001b[0;36mpandas._libs.index.IndexEngine.get_value (pandas/_libs/index.c:4046)\u001b[0;34m()\u001b[0m\n",
      "\u001b[0;32mpandas/_libs/index.pyx\u001b[0m in \u001b[0;36mpandas._libs.index.IndexEngine.get_loc (pandas/_libs/index.c:4959)\u001b[0;34m()\u001b[0m\n",
      "\u001b[0;31mKeyError\u001b[0m: 1"
     ]
    }
   ],
   "source": [
    "#df4.to_csv('out.csv')\n",
    "\n",
    "\n",
    "df3.CMPLNT_FR_DT.get_value(1,1)"
   ]
  },
  {
   "cell_type": "code",
   "execution_count": 66,
   "metadata": {},
   "outputs": [
    {
     "name": "stdout",
     "output_type": "stream",
     "text": [
      "        CMPLNT_FR_DT                                       PD_DESC  \\\n",
      "0               2015                FORGERY,ETC.,UNCLASSIFIED-FELO   \n",
      "2               2015                CONTROLLED SUBSTANCE,INTENT TO   \n",
      "3               2015                                     ASSAULT 3   \n",
      "4               2015                                     ASSAULT 3   \n",
      "5               2015                      ASSAULT 2,1,UNCLASSIFIED   \n",
      "6               2015                CONTROLLED SUBSTANCE, POSSESSI   \n",
      "7               2015                      WEAPONS POSSESSION 1 & 2   \n",
      "8               2015                                     ASSAULT 3   \n",
      "9               2015                LARCENY,PETIT FROM BUILDING,UN   \n",
      "10              2015                      LARCENY,PETIT OF BICYCLE   \n",
      "11              2015                LARCENY,PETIT FROM BUILDING,UN   \n",
      "12              2015       LARCENY,GRAND FROM PERSON, BAG OPEN/DIP   \n",
      "13              2015                LARCENY,GRAND FROM PERSON,PICK   \n",
      "14              2015                FORGERY,ETC.,UNCLASSIFIED-FELO   \n",
      "15              2015            ROBBERY,PERSONAL ELECTRONIC DEVICE   \n",
      "16              2015         LARCENY,GRAND FROM EATERY, UNATTENDED   \n",
      "17              2015                             CONTEMPT,CRIMINAL   \n",
      "18              2015                                     ASSAULT 3   \n",
      "19              2015              CRIMINAL MISCHIEF,UNCLASSIFIED 4   \n",
      "20              2015                CONTROLLED SUBSTANCE, POSSESSI   \n",
      "21              2015                                        RAPE 2   \n",
      "22              2015                CONTROLLED SUBSTANCE, POSSESSI   \n",
      "23              2015                             STRANGULATION 1ST   \n",
      "24              2015                          WEAPONS POSSESSION 3   \n",
      "25              2015                                     ASSAULT 3   \n",
      "26              2015                                     ASSAULT 3   \n",
      "27              2015                          WEAPONS POSSESSION 3   \n",
      "28              2015                   MARIJUANA, POSSESSION 4 & 5   \n",
      "29              2015                   INTOXICATED DRIVING,ALCOHOL   \n",
      "30              2015              CRIMINAL MISCHIEF,UNCLASSIFIED 4   \n",
      "...              ...                                           ...   \n",
      "5580005         2015                       AGGRAVATED HARASSMENT 2   \n",
      "5580006         2015                      BURGLARY,RESIDENCE,NIGHT   \n",
      "5580007         2015                            FORGERY,ETC.-MISD.   \n",
      "5580008         2015                ARSON, MOTOR VEHICLE 1 2 3 & 4   \n",
      "5580009         2015  LARCENY,GRAND BY OPEN CREDIT CARD (NEW ACCT)   \n",
      "5580010         2015                         HARASSMENT,SUBD 3,4,5   \n",
      "5580011         2015                         HARASSMENT,SUBD 3,4,5   \n",
      "5580012         2015   LARCENY,GRAND BY ACQUIRING LOST CREDIT CARD   \n",
      "5580013         2015         LARCENY,GRAND FROM VEHICLE/MOTORCYCLE   \n",
      "5580014         2015                ARSON, MOTOR VEHICLE 1 2 3 & 4   \n",
      "5580015         2015                         HARASSMENT,SUBD 3,4,5   \n",
      "5580016         2015                         HARASSMENT,SUBD 3,4,5   \n",
      "5580017         2015                       AGGRAVATED HARASSMENT 2   \n",
      "5580018         2015                              SEXUAL ABUSE 3,2   \n",
      "5580019         2015                ARSON, MOTOR VEHICLE 1 2 3 & 4   \n",
      "5580020         2015                       AGGRAVATED HARASSMENT 2   \n",
      "5580021         2015                       AGGRAVATED HARASSMENT 2   \n",
      "5580022         2015                CONTROLLED SUBSTANCE,INTENT TO   \n",
      "5580023         2015                    HARASSMENT,SUBD 1,CIVILIAN   \n",
      "5580024         2015                         HARASSMENT,SUBD 3,4,5   \n",
      "5580025         2015                      ASSAULT 2,1,UNCLASSIFIED   \n",
      "5580026         2015                    HARASSMENT,SUBD 1,CIVILIAN   \n",
      "5580027         2015                    HARASSMENT,SUBD 1,CIVILIAN   \n",
      "5580028         2015                                     ASSAULT 3   \n",
      "5580029         2015                     ROBBERY,NECKCHAIN/JEWELRY   \n",
      "5580030         2015               ROBBERY,COMMERCIAL UNCLASSIFIED   \n",
      "5580031         2015                         HARASSMENT,SUBD 3,4,5   \n",
      "5580032         2015                      ASSAULT 2,1,UNCLASSIFIED   \n",
      "5580033         2014                       AGGRAVATED HARASSMENT 2   \n",
      "5580034         2001                     BURGLARY,COMMERCIAL,NIGHT   \n",
      "\n",
      "               BORO_NM  \n",
      "0                BRONX  \n",
      "2            MANHATTAN  \n",
      "3               QUEENS  \n",
      "4            MANHATTAN  \n",
      "5             BROOKLYN  \n",
      "6            MANHATTAN  \n",
      "7                BRONX  \n",
      "8                BRONX  \n",
      "9            MANHATTAN  \n",
      "10               BRONX  \n",
      "11           MANHATTAN  \n",
      "12           MANHATTAN  \n",
      "13           MANHATTAN  \n",
      "14            BROOKLYN  \n",
      "15              QUEENS  \n",
      "16           MANHATTAN  \n",
      "17               BRONX  \n",
      "18            BROOKLYN  \n",
      "19              QUEENS  \n",
      "20            BROOKLYN  \n",
      "21              QUEENS  \n",
      "22              QUEENS  \n",
      "23            BROOKLYN  \n",
      "24            BROOKLYN  \n",
      "25            BROOKLYN  \n",
      "26            BROOKLYN  \n",
      "27            BROOKLYN  \n",
      "28            BROOKLYN  \n",
      "29       STATEN ISLAND  \n",
      "30               BRONX  \n",
      "...                ...  \n",
      "5580005         QUEENS  \n",
      "5580006         QUEENS  \n",
      "5580007          BRONX  \n",
      "5580008         QUEENS  \n",
      "5580009       BROOKLYN  \n",
      "5580010         QUEENS  \n",
      "5580011         QUEENS  \n",
      "5580012         QUEENS  \n",
      "5580013       BROOKLYN  \n",
      "5580014         QUEENS  \n",
      "5580015          BRONX  \n",
      "5580016          BRONX  \n",
      "5580017      MANHATTAN  \n",
      "5580018         QUEENS  \n",
      "5580019         QUEENS  \n",
      "5580020         QUEENS  \n",
      "5580021  STATEN ISLAND  \n",
      "5580022       BROOKLYN  \n",
      "5580023      MANHATTAN  \n",
      "5580024          BRONX  \n",
      "5580025       BROOKLYN  \n",
      "5580026       BROOKLYN  \n",
      "5580027         QUEENS  \n",
      "5580028          BRONX  \n",
      "5580029         QUEENS  \n",
      "5580030      MANHATTAN  \n",
      "5580031          BRONX  \n",
      "5580032         QUEENS  \n",
      "5580033          BRONX  \n",
      "5580034       BROOKLYN  \n",
      "\n",
      "[5574009 rows x 3 columns]\n"
     ]
    }
   ],
   "source": [
    "print df3\n"
   ]
  },
  {
   "cell_type": "code",
   "execution_count": null,
   "metadata": {
    "collapsed": true
   },
   "outputs": [],
   "source": []
  }
 ],
 "metadata": {
  "kernelspec": {
   "display_name": "Python 2",
   "language": "python",
   "name": "python2"
  },
  "language_info": {
   "codemirror_mode": {
    "name": "ipython",
    "version": 2
   },
   "file_extension": ".py",
   "mimetype": "text/x-python",
   "name": "python",
   "nbconvert_exporter": "python",
   "pygments_lexer": "ipython2",
   "version": "2.7.13"
  }
 },
 "nbformat": 4,
 "nbformat_minor": 2
}
